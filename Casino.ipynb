{
 "cells": [
  {
   "cell_type": "code",
   "execution_count": null,
   "id": "345d23f7-fd73-449b-92fa-f73600835ccf",
   "metadata": {},
   "outputs": [
    {
     "name": "stdout",
     "output_type": "stream",
     "text": [
      "Are you in?\n",
      "clock is ticking... 0\n"
     ]
    },
    {
     "name": "stdin",
     "output_type": "stream",
     "text": [
      " y\n"
     ]
    },
    {
     "name": "stdout",
     "output_type": "stream",
     "text": [
      "How much money do you bet?\n"
     ]
    },
    {
     "name": "stdin",
     "output_type": "stream",
     "text": [
      " 500\n"
     ]
    },
    {
     "name": "stdout",
     "output_type": "stream",
     "text": [
      "what is your game? Red? Black? Number from 1 till 35?\n"
     ]
    },
    {
     "name": "stdin",
     "output_type": "stream",
     "text": [
      " red\n"
     ]
    },
    {
     "name": "stdout",
     "output_type": "stream",
     "text": [
      "Wheel is spinning...17\n",
      "Your winning is 1000 Money = 1500\n",
      "Are you in?\n",
      "clock is ticking... 11\n"
     ]
    }
   ],
   "source": [
    "import time, random\n",
    "\n",
    "money = 1000\n",
    "timeout = 120.0\n",
    "\n",
    "def play():\n",
    "    print(\"what is your game? Red? Black? Number from 1 till 35?\")\n",
    "    game=input()\n",
    "    game=game.upper()\n",
    "    roulette=random.randint(1,35)\n",
    "    print(\"Wheel is spinning...\"+str(roulette))\n",
    "    if game.isnumeric() and int(game)==roulette:\n",
    "        return 35\n",
    "    elif (game in [\"RED\",\"R\"] and roulette%2==1) or (game in [\"BLACK\",\"B\"] and roulette%2==0):\n",
    "        return 2\n",
    "    else:\n",
    "        return 0\n",
    "\n",
    "clock = time.time()\n",
    "\n",
    "while money > 0:\n",
    "    print(\"Are you in?\")\n",
    "    timer=time.time() - clock\n",
    "    print(\"clock is ticking...\",int(timer))\n",
    "    if timer > timeout:\n",
    "        break\n",
    "    answer = input()\n",
    "    if answer.upper() in [\"YES\",\"Y\"]:\n",
    "        print(\"How much money do you bet?\")\n",
    "        bet=input()\n",
    "        if bet.isnumeric():\n",
    "            bet=int(bet)\n",
    "            money-=bet\n",
    "        else:\n",
    "            continue\n",
    "        if bet>money:\n",
    "                print(\"You don't have that kind of money\")\n",
    "                continue\n",
    "        result=play()\n",
    "        money=money+bet*result\n",
    "        print(\"Your winning is \" + str(bet*result),\"Money = \"+str(money))\n",
    "        continue\n",
    "    elif answer.upper() in [\"NO\",\"N\"]:\n",
    "        break\n",
    "    else:\n",
    "        continue\n",
    "timer=time.time() - clock\n",
    "if timer > timeout:\n",
    "    print(\"time is out\")\n",
    "    money=0\n",
    "print(\"Your money = \"+str(money))\n",
    "if money == 0:\n",
    "    print(\"You lost!\")\n",
    "print(\"Thanks for the game\")"
   ]
  },
  {
   "cell_type": "code",
   "execution_count": null,
   "id": "13a1845d-89fe-46cc-8b73-99aa36b559e1",
   "metadata": {},
   "outputs": [],
   "source": []
  },
  {
   "cell_type": "code",
   "execution_count": null,
   "id": "9dd6fa12-55df-482d-b469-90a96310d22b",
   "metadata": {},
   "outputs": [],
   "source": []
  },
  {
   "cell_type": "code",
   "execution_count": null,
   "id": "c44bcb0e-e45b-4dfc-bf94-8a40eeedc38c",
   "metadata": {},
   "outputs": [],
   "source": []
  },
  {
   "cell_type": "code",
   "execution_count": null,
   "id": "526336cf-19cb-4f33-b939-b2b1126964df",
   "metadata": {},
   "outputs": [],
   "source": []
  },
  {
   "cell_type": "code",
   "execution_count": null,
   "id": "b5705ffd-72a0-4edd-bd0c-4f1bc5966fc5",
   "metadata": {},
   "outputs": [],
   "source": []
  },
  {
   "cell_type": "code",
   "execution_count": null,
   "id": "8305acbb-1b60-4bf3-925b-c88901289233",
   "metadata": {},
   "outputs": [],
   "source": []
  }
 ],
 "metadata": {
  "kernelspec": {
   "display_name": "Python 3 (ipykernel)",
   "language": "python",
   "name": "python3"
  },
  "language_info": {
   "codemirror_mode": {
    "name": "ipython",
    "version": 3
   },
   "file_extension": ".py",
   "mimetype": "text/x-python",
   "name": "python",
   "nbconvert_exporter": "python",
   "pygments_lexer": "ipython3",
   "version": "3.11.0"
  }
 },
 "nbformat": 4,
 "nbformat_minor": 5
}
